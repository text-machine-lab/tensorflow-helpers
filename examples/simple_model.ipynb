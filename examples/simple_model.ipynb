{
 "cells": [
  {
   "cell_type": "code",
   "execution_count": 1,
   "metadata": {
    "collapsed": true
   },
   "outputs": [],
   "source": [
    "import tensorflow as tf\n",
    "import numpy as np"
   ]
  },
  {
   "cell_type": "code",
   "execution_count": 2,
   "metadata": {
    "collapsed": true
   },
   "outputs": [],
   "source": [
    "from tensorflow_helpers.models.base_model import BaseModel"
   ]
  },
  {
   "cell_type": "markdown",
   "metadata": {},
   "source": [
    "# Create a simple XOR dataset"
   ]
  },
  {
   "cell_type": "markdown",
   "metadata": {},
   "source": [
    "Given a two dimensional vector, the model should learn the XOR operation."
   ]
  },
  {
   "cell_type": "markdown",
   "metadata": {},
   "source": [
    "<table>\n",
    "  <tr>\n",
    "    <th>x1</th>\n",
    "    <th>x2</th>\n",
    "    <th>y</th>\n",
    "  </tr>\n",
    "  <tr>\n",
    "    <td>0</td>\n",
    "    <td>0</td>\n",
    "    <td>0</td>\n",
    "  </tr>\n",
    "  <tr>\n",
    "    <td>0</td>\n",
    "    <td>1</td>\n",
    "    <td>1</td>\n",
    "  </tr>\n",
    "  <tr>\n",
    "    <td>1</td>\n",
    "    <td>0</td>\n",
    "    <td>1</td>\n",
    "  </tr>\n",
    "  <tr>\n",
    "    <td>1</td>\n",
    "    <td>1</td>\n",
    "    <td>0</td>\n",
    "  </tr>\n",
    "</table>"
   ]
  },
  {
   "cell_type": "markdown",
   "metadata": {},
   "source": [
    "Thus, the model takes as input a matrix of size `(?, 2)` and produces an output vector of size `(?,)` where `?` indicates the batch size."
   ]
  },
  {
   "cell_type": "code",
   "execution_count": 3,
   "metadata": {
    "collapsed": true
   },
   "outputs": [],
   "source": [
    "X = np.array([\n",
    "    [0,0],\n",
    "    [0,1],\n",
    "    [1,0],\n",
    "    [1,1],\n",
    "])\n",
    "Y = np.array([0,1,1,0])"
   ]
  },
  {
   "cell_type": "code",
   "execution_count": 4,
   "metadata": {
    "collapsed": false
   },
   "outputs": [
    {
     "data": {
      "text/plain": [
       "array([[0, 0],\n",
       "       [0, 1],\n",
       "       [1, 0],\n",
       "       [1, 1]])"
      ]
     },
     "execution_count": 4,
     "metadata": {},
     "output_type": "execute_result"
    }
   ],
   "source": [
    "X"
   ]
  },
  {
   "cell_type": "code",
   "execution_count": 5,
   "metadata": {
    "collapsed": false
   },
   "outputs": [
    {
     "data": {
      "text/plain": [
       "array([0, 1, 1, 0])"
      ]
     },
     "execution_count": 5,
     "metadata": {},
     "output_type": "execute_result"
    }
   ],
   "source": [
    "Y"
   ]
  },
  {
   "cell_type": "markdown",
   "metadata": {},
   "source": [
    "# Build the model"
   ]
  },
  {
   "cell_type": "markdown",
   "metadata": {},
   "source": [
    "Create a class for our model"
   ]
  },
  {
   "cell_type": "code",
   "execution_count": 6,
   "metadata": {
    "collapsed": true
   },
   "outputs": [],
   "source": [
    "class SimpleModel(BaseModel):\n",
    "    def __init__(self, **kwargs):\n",
    "        super(SimpleModel, self).__init__()\n",
    "\n",
    "        self.hidden_size = kwargs.get('hidden_size', 10)\n",
    "\n",
    "    def build_model(self):\n",
    "        # we can get the batch size \n",
    "        batch_size = self.get_batch_size()\n",
    "\n",
    "        with tf.name_scope('input'):\n",
    "            # You can access the input using the `self.input_dict` attribute\n",
    "            X = self.input_dict['X']\n",
    "\n",
    "            X_shape = X.get_shape()\n",
    "            input_dim = int(X_shape[1])\n",
    "\n",
    "            print('X shape:', X.get_shape())\n",
    "            \n",
    "        with tf.name_scope('hidden_layer'):\n",
    "            W = tf.get_variable('W', [input_dim, self.hidden_size])\n",
    "            b = tf.get_variable('b', [self.hidden_size, ])\n",
    "            \n",
    "            h = tf.nn.relu(tf.matmul(X, W) + b)\n",
    "            \n",
    "            print('hidden layer shape:', h.get_shape())\n",
    "            \n",
    "        with tf.name_scope('output'):\n",
    "            U = tf.get_variable('U', [self.hidden_size, 1])\n",
    "            v = tf.get_variable('v', [1, ])\n",
    "            \n",
    "            output_logits = tf.matmul(h, U) + v\n",
    "            print('Output logits shape:', output_logits.get_shape())\n",
    "            \n",
    "            # The operation above prodcues a matrix of size (?, 1)\n",
    "            # so we need to reshape it to be a single vector\n",
    "            output_logits = tf.reshape(output_logits, [-1])\n",
    "            print('Output logits reshaped shape:', output_logits.get_shape())\n",
    "            \n",
    "            # set the attribute which will be used for prediction\n",
    "            output_prob = tf.nn.sigmoid(output_logits)\n",
    "            print('Output shape:', output_prob.get_shape())\n",
    "            self.op_predict = output_prob\n",
    "\n",
    "        with tf.name_scope(\"loss\"):\n",
    "            Y = self.input_dict['Y']\n",
    "            print('Y shape:', Y.get_shape())\n",
    "            \n",
    "            loss = tf.nn.sigmoid_cross_entropy_with_logits(output_logits, Y)\n",
    "            print('Loss shape:', loss.get_shape())\n",
    "            \n",
    "            # get mean of the loss across the batch dimension\n",
    "            loss_reduced = tf.reduce_mean(loss) \n",
    "            print('Loss reduces shape:', loss_reduced.get_shape())\n",
    "            \n",
    "            # set the attrribute which will be minimized during the training\n",
    "            self.op_loss = loss_reduced"
   ]
  },
  {
   "cell_type": "markdown",
   "metadata": {},
   "source": [
    "Next, create the model and add inputs"
   ]
  },
  {
   "cell_type": "code",
   "execution_count": 7,
   "metadata": {
    "collapsed": true
   },
   "outputs": [],
   "source": [
    "# not necessarily, I put it here to limit the number of threads used by TensorFlow\n",
    "sess_config = tf.ConfigProto(inter_op_parallelism_threads=4, intra_op_parallelism_threads=4)\n",
    "sess = tf.Session(config=sess_config)"
   ]
  },
  {
   "cell_type": "code",
   "execution_count": 8,
   "metadata": {
    "collapsed": false,
    "scrolled": false
   },
   "outputs": [
    {
     "name": "stdout",
     "output_type": "stream",
     "text": [
      "X shape: (?, 2)\n",
      "hidden layer shape: (?, 16)\n",
      "Output logits shape: (?, 1)\n",
      "Output logits reshaped shape: (?,)\n",
      "Output shape: (?,)\n",
      "Y shape: (?,)\n",
      "Loss shape: (?,)\n",
      "Loss reduces shape: ()\n"
     ]
    }
   ],
   "source": [
    "model = SimpleModel(hidden_size=16)\n",
    "\n",
    "# add_input takes the name of the input and its shape without the batch dimension\n",
    "model.add_input('X', X.shape[1:])\n",
    "\n",
    "# train_only=True indicates that this input is presented during the training only\n",
    "model.add_input('Y', Y.shape[1:], dtype=tf.float32, train_only=True)\n",
    "\n",
    "# you can skip this if you want to use the default sesssion\n",
    "model.set_session(sess)\n",
    "\n",
    "model.build_model()"
   ]
  },
  {
   "cell_type": "markdown",
   "metadata": {},
   "source": [
    "Finally, train the model"
   ]
  },
  {
   "cell_type": "code",
   "execution_count": 9,
   "metadata": {
    "collapsed": true
   },
   "outputs": [],
   "source": [
    "# create a dictionary of input data\n",
    "data_dict_train = {\n",
    "    'X': X,\n",
    "    'Y': Y,\n",
    "}"
   ]
  },
  {
   "cell_type": "code",
   "execution_count": 10,
   "metadata": {
    "collapsed": true
   },
   "outputs": [],
   "source": [
    "model.train_model(data_dict_train, nb_epoch=10000, batch_size=64)"
   ]
  },
  {
   "cell_type": "markdown",
   "metadata": {},
   "source": [
    "Get predictions"
   ]
  },
  {
   "cell_type": "code",
   "execution_count": 11,
   "metadata": {
    "collapsed": true
   },
   "outputs": [],
   "source": [
    "# create a dictionary of test data\n",
    "data_dict_test = {\n",
    "    'X': X,\n",
    "}"
   ]
  },
  {
   "cell_type": "code",
   "execution_count": 12,
   "metadata": {
    "collapsed": false
   },
   "outputs": [],
   "source": [
    "Y_pred = model.predict(data_dict_test, batch_size=64)"
   ]
  },
  {
   "cell_type": "code",
   "execution_count": 13,
   "metadata": {
    "collapsed": false
   },
   "outputs": [
    {
     "data": {
      "text/plain": [
       "[6.84841e-05, 0.99992418, 0.99992466, 7.8695921e-05]"
      ]
     },
     "execution_count": 13,
     "metadata": {},
     "output_type": "execute_result"
    }
   ],
   "source": [
    "Y_pred"
   ]
  },
  {
   "cell_type": "code",
   "execution_count": 14,
   "metadata": {
    "collapsed": false
   },
   "outputs": [
    {
     "data": {
      "text/plain": [
       "list"
      ]
     },
     "execution_count": 14,
     "metadata": {},
     "output_type": "execute_result"
    }
   ],
   "source": [
    "# it is a list, not a numpy array\n",
    "type(Y_pred)"
   ]
  },
  {
   "cell_type": "code",
   "execution_count": 15,
   "metadata": {
    "collapsed": true
   },
   "outputs": [],
   "source": [
    "# convert probabilities into 1 or 0\n",
    "Y_pred = np.array(Y_pred)\n",
    "condition = Y_pred >= 0.5\n",
    "Y_pred[condition] = 1\n",
    "Y_pred[~condition] = 0"
   ]
  },
  {
   "cell_type": "code",
   "execution_count": 16,
   "metadata": {
    "collapsed": false
   },
   "outputs": [
    {
     "data": {
      "text/plain": [
       "array([ 0.,  1.,  1.,  0.], dtype=float32)"
      ]
     },
     "execution_count": 16,
     "metadata": {},
     "output_type": "execute_result"
    }
   ],
   "source": [
    "Y_pred"
   ]
  },
  {
   "cell_type": "code",
   "execution_count": 17,
   "metadata": {
    "collapsed": true
   },
   "outputs": [],
   "source": [
    "accuracy = np.mean(Y_pred == Y)"
   ]
  },
  {
   "cell_type": "code",
   "execution_count": 18,
   "metadata": {
    "collapsed": false
   },
   "outputs": [
    {
     "data": {
      "text/plain": [
       "1.0"
      ]
     },
     "execution_count": 18,
     "metadata": {},
     "output_type": "execute_result"
    }
   ],
   "source": [
    "accuracy"
   ]
  },
  {
   "cell_type": "code",
   "execution_count": null,
   "metadata": {
    "collapsed": true
   },
   "outputs": [],
   "source": []
  }
 ],
 "metadata": {
  "kernelspec": {
   "display_name": "Python 3",
   "language": "python",
   "name": "python3"
  },
  "language_info": {
   "codemirror_mode": {
    "name": "ipython",
    "version": 3
   },
   "file_extension": ".py",
   "mimetype": "text/x-python",
   "name": "python",
   "nbconvert_exporter": "python",
   "pygments_lexer": "ipython3",
   "version": "3.4.3"
  }
 },
 "nbformat": 4,
 "nbformat_minor": 2
}
